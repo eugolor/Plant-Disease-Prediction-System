{
 "cells": [
  {
   "cell_type": "code",
   "execution_count": 2,
   "id": "1384ee1e-a685-48cb-bf02-ee3e4a5cd668",
   "metadata": {
    "tags": []
   },
   "outputs": [],
   "source": [
    "import tensorflow as tf\n",
    "import matplotlib.pyplot as plt\n",
    "import seaborn as sns\n",
    "import pandas as pd"
   ]
  },
  {
   "cell_type": "markdown",
   "id": "80490393-20a7-4a1a-86a4-f047d95af4bd",
   "metadata": {},
   "source": [
    "## Data Preprocessing ##"
   ]
  },
  {
   "cell_type": "code",
   "execution_count": 3,
   "id": "d7b18bcc-0094-42c1-9038-4376aeb03db6",
   "metadata": {
    "tags": []
   },
   "outputs": [
    {
     "name": "stdout",
     "output_type": "stream",
     "text": [
      "Found 70295 files belonging to 38 classes.\n"
     ]
    },
    {
     "name": "stderr",
     "output_type": "stream",
     "text": [
      "2024-02-25 18:03:36.094216: I metal_plugin/src/device/metal_device.cc:1154] Metal device set to: Apple M2 Pro\n",
      "2024-02-25 18:03:36.094248: I metal_plugin/src/device/metal_device.cc:296] systemMemory: 16.00 GB\n",
      "2024-02-25 18:03:36.094258: I metal_plugin/src/device/metal_device.cc:313] maxCacheSize: 5.33 GB\n",
      "2024-02-25 18:03:36.094474: I tensorflow/core/common_runtime/pluggable_device/pluggable_device_factory.cc:306] Could not identify NUMA node of platform GPU ID 0, defaulting to 0. Your kernel may not have been built with NUMA support.\n",
      "2024-02-25 18:03:36.094815: I tensorflow/core/common_runtime/pluggable_device/pluggable_device_factory.cc:272] Created TensorFlow device (/job:localhost/replica:0/task:0/device:GPU:0 with 0 MB memory) -> physical PluggableDevice (device: 0, name: METAL, pci bus id: <undefined>)\n"
     ]
    }
   ],
   "source": [
    "training_set = tf.keras.utils.image_dataset_from_directory(\n",
    "    'train',\n",
    "    labels=\"inferred\",\n",
    "    label_mode=\"categorical\",\n",
    "    class_names=None,\n",
    "    color_mode=\"rgb\",\n",
    "    batch_size=32,\n",
    "    image_size=(128, 128),\n",
    "    shuffle=True,\n",
    "    seed=None,\n",
    "    validation_split=None,\n",
    "    subset=None,\n",
    "    interpolation=\"bilinear\",\n",
    "    follow_links=False,\n",
    "    crop_to_aspect_ratio=False,\n",
    ")"
   ]
  },
  {
   "cell_type": "markdown",
   "id": "35289a24-3c5d-4460-8e6e-29f1b07f1805",
   "metadata": {},
   "source": [
    "## Validation Image processing ##"
   ]
  },
  {
   "cell_type": "code",
   "execution_count": 4,
   "id": "0ed3610a-b63b-4cc7-8e52-37f76dcbd2e5",
   "metadata": {
    "tags": []
   },
   "outputs": [
    {
     "name": "stdout",
     "output_type": "stream",
     "text": [
      "Found 17572 files belonging to 38 classes.\n"
     ]
    }
   ],
   "source": [
    "validation_set = tf.keras.utils.image_dataset_from_directory(\n",
    "    'valid',\n",
    "    labels=\"inferred\",\n",
    "    label_mode=\"categorical\",\n",
    "    class_names=None,\n",
    "    color_mode=\"rgb\",\n",
    "    batch_size=32,\n",
    "    image_size=(128, 128),\n",
    "    shuffle=True,\n",
    "    seed=None,\n",
    "    validation_split=None,\n",
    "    subset=None,\n",
    "    interpolation=\"bilinear\",\n",
    "    follow_links=False,\n",
    "    crop_to_aspect_ratio=False,\n",
    ")"
   ]
  },
  {
   "cell_type": "code",
   "execution_count": 5,
   "id": "5129ac98-52b8-46c1-88b7-c39ee720c21d",
   "metadata": {
    "tags": []
   },
   "outputs": [
    {
     "data": {
      "text/plain": [
       "<_PrefetchDataset element_spec=(TensorSpec(shape=(None, 128, 128, 3), dtype=tf.float32, name=None), TensorSpec(shape=(None, 38), dtype=tf.float32, name=None))>"
      ]
     },
     "execution_count": 5,
     "metadata": {},
     "output_type": "execute_result"
    }
   ],
   "source": [
    "training_set"
   ]
  },
  {
   "cell_type": "markdown",
   "id": "3b510068-8265-45ae-8356-7789c657e75c",
   "metadata": {},
   "source": [
    "## Building Model ##"
   ]
  },
  {
   "cell_type": "code",
   "execution_count": 16,
   "id": "e72debc6-84d0-4e9d-9a3a-83d43e8199e0",
   "metadata": {
    "tags": []
   },
   "outputs": [],
   "source": [
    "from tensorflow.keras.layers import Dense, Conv2D, MaxPool2D, Flatten, Dropout\n",
    "from tensorflow.keras.models import Sequential"
   ]
  },
  {
   "cell_type": "code",
   "execution_count": 22,
   "id": "84b188bc-6380-4dc6-9027-3b4dd64a746e",
   "metadata": {
    "tags": []
   },
   "outputs": [],
   "source": [
    "model = Sequential()\n",
    "\n",
    "model.add(Conv2D(filters=32, kernel_size=3, padding='same', activation='relu', input_shape=(128, 128, 3)))\n",
    "model.add(Conv2D(filters=32, kernel_size=3, padding='same', activation='relu'))\n",
    "model.add(MaxPool2D(pool_size=2, strides=2))\n",
    "\n",
    "model.add(Conv2D(filters=64, kernel_size=3, padding='same', activation='relu'))\n",
    "model.add(Conv2D(filters=64, kernel_size=3, activation='relu'))\n",
    "model.add(MaxPool2D(pool_size=2, strides=2))\n",
    "\n",
    "model.add(Conv2D(filters=128, kernel_size=3, padding='same', activation='relu'))\n",
    "model.add(Conv2D(filters=128, kernel_size=3, activation='relu'))\n",
    "model.add(MaxPool2D(pool_size=2, strides=2))\n",
    "\n",
    "model.add(Conv2D(filters=256, kernel_size=3, padding='same', activation='relu'))\n",
    "model.add(Conv2D(filters=256, kernel_size=3, activation='relu'))\n",
    "model.add(MaxPool2D(pool_size=2, strides=2))\n",
    "          \n",
    "model.add(Conv2D(filters=512, kernel_size=3, padding='same', activation='relu'))\n",
    "model.add(Conv2D(filters=512, kernel_size=3, activation='relu'))\n",
    "model.add(MaxPool2D(pool_size=2, strides=2))\n",
    "          \n",
    "model.add(Dropout(0.25)) # To Avoid Overfitting\n",
    "\n",
    "model.add(Flatten())\n",
    "model.add(Dense(units=1500, activation='relu'))\n",
    "model.add(Dropout(0.25))\n",
    "# Output Layer\n",
    "model.add(Dense(units=38, activation='softmax'))"
   ]
  },
  {
   "cell_type": "markdown",
   "id": "640410c9-1f43-4999-8665-67519ba3d682",
   "metadata": {},
   "source": [
    "## Compiling Model ##"
   ]
  },
  {
   "cell_type": "code",
   "execution_count": 23,
   "id": "5e477b25-be56-4c46-8c27-5806bc75108d",
   "metadata": {
    "tags": []
   },
   "outputs": [],
   "source": [
    "model.compile(optimizer=tf.keras.optimizers.legacy.Adam(\n",
    "    learning_rate=0.0001),loss='categorical_crossentropy', metrics=['accuracy'])"
   ]
  },
  {
   "cell_type": "code",
   "execution_count": 24,
   "id": "470973af-3906-4ece-a8bc-76fb8d25596d",
   "metadata": {
    "tags": []
   },
   "outputs": [
    {
     "name": "stdout",
     "output_type": "stream",
     "text": [
      "Model: \"sequential_2\"\n",
      "_________________________________________________________________\n",
      " Layer (type)                Output Shape              Param #   \n",
      "=================================================================\n",
      " conv2d_18 (Conv2D)          (None, 128, 128, 32)      896       \n",
      "                                                                 \n",
      " conv2d_19 (Conv2D)          (None, 128, 128, 32)      9248      \n",
      "                                                                 \n",
      " max_pooling2d_9 (MaxPoolin  (None, 64, 64, 32)        0         \n",
      " g2D)                                                            \n",
      "                                                                 \n",
      " conv2d_20 (Conv2D)          (None, 64, 64, 64)        18496     \n",
      "                                                                 \n",
      " conv2d_21 (Conv2D)          (None, 62, 62, 64)        36928     \n",
      "                                                                 \n",
      " max_pooling2d_10 (MaxPooli  (None, 31, 31, 64)        0         \n",
      " ng2D)                                                           \n",
      "                                                                 \n",
      " conv2d_22 (Conv2D)          (None, 31, 31, 128)       73856     \n",
      "                                                                 \n",
      " conv2d_23 (Conv2D)          (None, 29, 29, 128)       147584    \n",
      "                                                                 \n",
      " max_pooling2d_11 (MaxPooli  (None, 14, 14, 128)       0         \n",
      " ng2D)                                                           \n",
      "                                                                 \n",
      " conv2d_24 (Conv2D)          (None, 14, 14, 256)       295168    \n",
      "                                                                 \n",
      " conv2d_25 (Conv2D)          (None, 12, 12, 256)       590080    \n",
      "                                                                 \n",
      " max_pooling2d_12 (MaxPooli  (None, 6, 6, 256)         0         \n",
      " ng2D)                                                           \n",
      "                                                                 \n",
      " conv2d_26 (Conv2D)          (None, 6, 6, 512)         1180160   \n",
      "                                                                 \n",
      " conv2d_27 (Conv2D)          (None, 4, 4, 512)         2359808   \n",
      "                                                                 \n",
      " max_pooling2d_13 (MaxPooli  (None, 2, 2, 512)         0         \n",
      " ng2D)                                                           \n",
      "                                                                 \n",
      " dropout_2 (Dropout)         (None, 2, 2, 512)         0         \n",
      "                                                                 \n",
      " flatten_2 (Flatten)         (None, 2048)              0         \n",
      "                                                                 \n",
      " dense_4 (Dense)             (None, 1500)              3073500   \n",
      "                                                                 \n",
      " dropout_3 (Dropout)         (None, 1500)              0         \n",
      "                                                                 \n",
      " dense_5 (Dense)             (None, 38)                57038     \n",
      "                                                                 \n",
      "=================================================================\n",
      "Total params: 7842762 (29.92 MB)\n",
      "Trainable params: 7842762 (29.92 MB)\n",
      "Non-trainable params: 0 (0.00 Byte)\n",
      "_________________________________________________________________\n"
     ]
    }
   ],
   "source": [
    "model.summary()"
   ]
  },
  {
   "cell_type": "markdown",
   "id": "114aa90c-0223-4bbb-85d0-d27a01d71ddd",
   "metadata": {},
   "source": [
    "## Training Model ##"
   ]
  },
  {
   "cell_type": "code",
   "execution_count": 25,
   "id": "91b7b5f3-d7cf-4083-95e0-91385a9dde75",
   "metadata": {
    "scrolled": true,
    "tags": []
   },
   "outputs": [
    {
     "name": "stdout",
     "output_type": "stream",
     "text": [
      "Epoch 1/5\n",
      "2197/2197 [==============================] - 134s 61ms/step - loss: 1.3502 - accuracy: 0.6058 - val_loss: 0.5247 - val_accuracy: 0.8292\n",
      "Epoch 2/5\n",
      "2197/2197 [==============================] - 133s 61ms/step - loss: 0.5019 - accuracy: 0.8438 - val_loss: 0.3619 - val_accuracy: 0.8833\n",
      "Epoch 3/5\n",
      "2197/2197 [==============================] - 128s 58ms/step - loss: 0.3324 - accuracy: 0.8970 - val_loss: 0.2684 - val_accuracy: 0.9130\n",
      "Epoch 4/5\n",
      "2197/2197 [==============================] - 126s 57ms/step - loss: 0.2679 - accuracy: 0.9172 - val_loss: 0.2773 - val_accuracy: 0.9215\n",
      "Epoch 5/5\n",
      "2197/2197 [==============================] - 126s 57ms/step - loss: 0.2138 - accuracy: 0.9366 - val_loss: 0.2915 - val_accuracy: 0.9215\n"
     ]
    }
   ],
   "source": [
    "trianing_history = model.fit(x=training_set, validation_data=validation_set, epochs=5)"
   ]
  },
  {
   "cell_type": "markdown",
   "id": "4cd83e9b-a15b-46ef-9422-335da05058cd",
   "metadata": {
    "tags": []
   },
   "source": [
    "## Model Evaluation ##"
   ]
  },
  {
   "cell_type": "code",
   "execution_count": 26,
   "id": "d24f6e8d-eb88-4d15-9c21-b1416ec01600",
   "metadata": {
    "tags": []
   },
   "outputs": [
    {
     "name": "stdout",
     "output_type": "stream",
     "text": [
      "2197/2197 [==============================] - 34s 15ms/step - loss: 0.1577 - accuracy: 0.9511\n"
     ]
    }
   ],
   "source": [
    "# Model Evaluation on Training set\n",
    "train_loss, train_acc = model.evaluate(training_set)"
   ]
  },
  {
   "cell_type": "code",
   "execution_count": 27,
   "id": "e87b68e0-8945-4eea-827e-d4dede9cc07e",
   "metadata": {
    "tags": []
   },
   "outputs": [
    {
     "name": "stdout",
     "output_type": "stream",
     "text": [
      "0.1577291190624237 0.9510775804519653\n"
     ]
    }
   ],
   "source": [
    "print(train_loss, train_acc)"
   ]
  },
  {
   "cell_type": "code",
   "execution_count": 29,
   "id": "45879d19-6ee9-4b28-b69c-7e048301b306",
   "metadata": {
    "tags": []
   },
   "outputs": [
    {
     "name": "stdout",
     "output_type": "stream",
     "text": [
      "550/550 [==============================] - 9s 16ms/step - loss: 0.2915 - accuracy: 0.9215\n"
     ]
    }
   ],
   "source": [
    "# Model Evaluation on Validation set\n",
    "val_loss, val_acc = model.evaluate(validation_set)"
   ]
  },
  {
   "cell_type": "markdown",
   "id": "ac092d00-b25f-4235-b6f5-9accf8eb0553",
   "metadata": {},
   "source": [
    "## Saving Model ##"
   ]
  },
  {
   "cell_type": "code",
   "execution_count": 31,
   "id": "bfe725f2-414f-4e1a-adf8-c03e2abfb3a3",
   "metadata": {
    "tags": []
   },
   "outputs": [],
   "source": [
    "model.save(\"trained_model.keras\")"
   ]
  },
  {
   "cell_type": "code",
   "execution_count": 33,
   "id": "97140472-0d93-461a-90e0-0b33d62be5c0",
   "metadata": {
    "tags": []
   },
   "outputs": [
    {
     "data": {
      "text/plain": [
       "{'loss': [1.350155234336853,\n",
       "  0.501903772354126,\n",
       "  0.3324102461338043,\n",
       "  0.26788991689682007,\n",
       "  0.21378614008426666],\n",
       " 'accuracy': [0.6058183312416077,\n",
       "  0.8438011407852173,\n",
       "  0.8969628214836121,\n",
       "  0.9172345399856567,\n",
       "  0.936581552028656],\n",
       " 'val_loss': [0.5246601700782776,\n",
       "  0.3619435429573059,\n",
       "  0.26844167709350586,\n",
       "  0.2772950828075409,\n",
       "  0.2914712429046631],\n",
       " 'val_accuracy': [0.8291600346565247,\n",
       "  0.8832802176475525,\n",
       "  0.9129865765571594,\n",
       "  0.921522855758667,\n",
       "  0.921522855758667]}"
      ]
     },
     "execution_count": 33,
     "metadata": {},
     "output_type": "execute_result"
    }
   ],
   "source": [
    "trianing_history.history"
   ]
  },
  {
   "cell_type": "code",
   "execution_count": 34,
   "id": "c0e878ab-1ca5-41c5-a6ec-0763252c9d9b",
   "metadata": {
    "tags": []
   },
   "outputs": [],
   "source": [
    "import json\n",
    "with open(\"training_hist.json\", \"w\") as f:\n",
    "    json.dump(trianing_history.history, f)"
   ]
  },
  {
   "cell_type": "code",
   "execution_count": null,
   "id": "f2653bc5-92cc-4292-9e1f-c2ad9a47bebd",
   "metadata": {},
   "outputs": [],
   "source": []
  },
  {
   "cell_type": "markdown",
   "id": "5efe0f89-9eb2-409b-8c18-ac9400aa62a4",
   "metadata": {},
   "source": [
    "## Accuracy Visualization ##"
   ]
  },
  {
   "cell_type": "code",
   "execution_count": 40,
   "id": "1cf6d230-9cde-4526-a9b8-8699c0222402",
   "metadata": {
    "tags": []
   },
   "outputs": [
    {
     "data": {
      "image/png": "[encoded data removed]",
      "text/plain": [
       "<Figure size 640x480 with 1 Axes>"
      ]
     },
     "metadata": {},
     "output_type": "display_data"
    }
   ],
   "source": [
    "epochs = [i for i in range(1, 6)]\n",
    "plt.plot(epochs, trianing_history.history['accuracy'], color='blue', label='Training Accuracy')\n",
    "plt.plot(epochs, trianing_history.history['val_accuracy'], color='pink', label='Validation Accuracy')\n",
    "plt.xlabel(\"No. of Epochs\")\n",
    "plt.ylabel(\"Visualization of Accuracy Result\")\n",
    "plt.legend()\n",
    "plt.show()"
   ]
  },
  {
   "cell_type": "code",
   "execution_count": null,
   "id": "2c2137dc-0741-4923-a3e9-6ded802c03ba",
   "metadata": {},
   "outputs": [],
   "source": []
  },
  {
   "cell_type": "code",
   "execution_count": null,
   "id": "80b94ccd-8764-4674-a42e-c232c848ce6c",
   "metadata": {},
   "outputs": [],
   "source": []
  },
  {
   "cell_type": "code",
   "execution_count": null,
   "id": "79be2d19-e19a-4bc4-ba4a-b83d7c4dddcf",
   "metadata": {},
   "outputs": [],
   "source": []
  },
  {
   "cell_type": "code",
   "execution_count": null,
   "id": "25d653a6-0fbd-4034-a5ea-ef2be41df660",
   "metadata": {},
   "outputs": [],
   "source": []
  },
  {
   "cell_type": "code",
   "execution_count": null,
   "id": "8853486b-2349-4276-8e82-53a845f4c036",
   "metadata": {},
   "outputs": [],
   "source": []
  },
  {
   "cell_type": "code",
   "execution_count": null,
   "id": "0e2359e1-61bc-4fbc-81a2-e315612278e8",
   "metadata": {},
   "outputs": [],
   "source": []
  },
  {
   "cell_type": "code",
   "execution_count": null,
   "id": "41784acd-49a1-46cc-ba65-0f2b1d978753",
   "metadata": {},
   "outputs": [],
   "source": []
  },
  {
   "cell_type": "code",
   "execution_count": null,
   "id": "64156b65-2d90-43dd-8a12-68946eb3e051",
   "metadata": {},
   "outputs": [],
   "source": []
  },
  {
   "cell_type": "code",
   "execution_count": null,
   "id": "a3fcc3de-d8ab-4ffa-b1df-bdb49760cc5c",
   "metadata": {},
   "outputs": [],
   "source": []
  }
 ],
 "metadata": {
  "kernelspec": {
   "display_name": "Python 3 (ipykernel)",
   "language": "python",
   "name": "python3"
  },
  "language_info": {
   "codemirror_mode": {
    "name": "ipython",
    "version": 3
   },
   "file_extension": ".py",
   "mimetype": "text/x-python",
   "name": "python",
   "nbconvert_exporter": "python",
   "pygments_lexer": "ipython3",
   "version": "3.11.5"
  }
 },
 "nbformat": 4,
 "nbformat_minor": 5
}
